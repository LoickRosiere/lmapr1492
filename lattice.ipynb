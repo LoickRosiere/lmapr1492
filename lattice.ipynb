{
 "cells": [
  {
   "cell_type": "code",
   "execution_count": 1,
   "metadata": {},
   "outputs": [],
   "source": [
    "from pymatgen.ext.matproj import MPRester\n",
    "from pymatgen.io.cif import CifWriter\n",
    "from pymatgen.symmetry.analyzer import SpacegroupAnalyzer"
   ]
  },
  {
   "cell_type": "code",
   "execution_count": 2,
   "metadata": {},
   "outputs": [],
   "source": [
    "with MPRester(\"RPlDkSQDkfldGfeTdTo\") as m:\n",
    "\n",
    "    # Structure for material id\n",
    "    s = m.get_structure_by_material_id(\"mp-6980\")"
   ]
  },
  {
   "cell_type": "code",
   "execution_count": 3,
   "metadata": {},
   "outputs": [],
   "source": [
    "new_s=SpacegroupAnalyzer(s).get_primitive_standard_structure()"
   ]
  },
  {
   "cell_type": "code",
   "execution_count": 4,
   "metadata": {},
   "outputs": [],
   "source": [
    "reseau_direct=new_s.lattice.abc\n",
    "reseau_reciproque=new_s.lattice.reciprocal_lattice.abc\n",
    "maille=SpacegroupAnalyzer(new_s).get_lattice_type()\n",
    "syst_crist=SpacegroupAnalyzer(new_s).get_crystal_system()\n",
    "gr_pt=SpacegroupAnalyzer(new_s).get_point_group_symbol()"
   ]
  },
  {
   "cell_type": "code",
   "execution_count": 5,
   "metadata": {},
   "outputs": [
    {
     "name": "stdout",
     "output_type": "stream",
     "text": [
      "vecteur du reseau direct (3.7510881488648464, 3.7510881488648464, 6.01442899)\n",
      "vecteur du reseau reciproque (1.9341580813376613, 1.934158081337661, 1.044685259004045)\n",
      "le type de maille est hexagonal\n",
      "le systeme cristallin est trigonal\n",
      "le groupe pnctuel est 3m\n"
     ]
    }
   ],
   "source": [
    "print('vecteur du reseau direct '+str(reseau_direct))\n",
    "print('vecteur du reseau reciproque '+str(reseau_reciproque))\n",
    "print('le type de maille est '+str(maille))\n",
    "print('le systeme cristallin est '+str(syst_crist))\n",
    "print('le groupe pnctuel est '+str(gr_pt))"
   ]
  },
  {
   "cell_type": "code",
   "execution_count": null,
   "metadata": {},
   "outputs": [],
   "source": []
  }
 ],
 "metadata": {
  "kernelspec": {
   "display_name": "Python 3",
   "language": "python",
   "name": "python3"
  },
  "language_info": {
   "codemirror_mode": {
    "name": "ipython",
    "version": 3
   },
   "file_extension": ".py",
   "mimetype": "text/x-python",
   "name": "python",
   "nbconvert_exporter": "python",
   "pygments_lexer": "ipython3",
   "version": "3.6.8"
  }
 },
 "nbformat": 4,
 "nbformat_minor": 2
}
